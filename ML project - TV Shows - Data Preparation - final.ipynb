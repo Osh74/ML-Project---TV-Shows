{
 "cells": [
  {
   "cell_type": "code",
   "execution_count": 183,
   "id": "b6198859-2dc1-47ff-8c20-5c7059558279",
   "metadata": {},
   "outputs": [],
   "source": [
    "#!pip install pandas\n",
    "import pandas as pd\n",
    "#!pip install numpy\n",
    "import numpy as np\n",
    "import matplotlib.pyplot as plt\n",
    "import seaborn as sns\n",
    "import warnings\n",
    "warnings.filterwarnings(\"ignore\")\n",
    "%matplotlib inline"
   ]
  },
  {
   "cell_type": "markdown",
   "id": "a284d088-5199-45a3-beac-4b5b6832de46",
   "metadata": {},
   "source": [
    "# DATA PREP"
   ]
  },
  {
   "cell_type": "markdown",
   "id": "30a663d2-ce52-4933-aadf-1686caab3242",
   "metadata": {},
   "source": [
    "Uploading the data"
   ]
  },
  {
   "cell_type": "code",
   "execution_count": 186,
   "id": "e4e2835e-d7e4-4270-891f-8ed7a4d98b2b",
   "metadata": {},
   "outputs": [],
   "source": [
    "df=pd.read_csv(r\".csv\")"
   ]
  },
  {
   "cell_type": "markdown",
   "id": "d3513026-d96f-422f-8f6b-07b90d348c25",
   "metadata": {},
   "source": [
    "Types & number of features and rows"
   ]
  },
  {
   "cell_type": "code",
   "execution_count": 188,
   "id": "1b3ed6f7-31ca-4175-8831-a605b397a38b",
   "metadata": {},
   "outputs": [
    {
     "name": "stdout",
     "output_type": "stream",
     "text": [
      "<class 'pandas.core.frame.DataFrame'>\n",
      "RangeIndex: 168639 entries, 0 to 168638\n",
      "Data columns (total 29 columns):\n",
      " #   Column                Non-Null Count   Dtype  \n",
      "---  ------                --------------   -----  \n",
      " 0   id                    168639 non-null  int64  \n",
      " 1   name                  168634 non-null  object \n",
      " 2   number_of_seasons     168639 non-null  int64  \n",
      " 3   number_of_episodes    168639 non-null  int64  \n",
      " 4   original_language     168639 non-null  object \n",
      " 5   vote_count            168639 non-null  int64  \n",
      " 6   vote_average          168639 non-null  float64\n",
      " 7   overview              93333 non-null   object \n",
      " 8   adult                 168639 non-null  bool   \n",
      " 9   backdrop_path         77780 non-null   object \n",
      " 10  first_air_date        136903 non-null  object \n",
      " 11  last_air_date         138735 non-null  object \n",
      " 12  homepage              50998 non-null   object \n",
      " 13  in_production         168639 non-null  bool   \n",
      " 14  original_name         168634 non-null  object \n",
      " 15  popularity            168639 non-null  float64\n",
      " 16  poster_path           108737 non-null  object \n",
      " 17  type                  168639 non-null  object \n",
      " 18  status                168639 non-null  object \n",
      " 19  tagline               5330 non-null    object \n",
      " 20  genres                99713 non-null   object \n",
      " 21  created_by            36496 non-null   object \n",
      " 22  languages             110050 non-null  object \n",
      " 23  networks              97589 non-null   object \n",
      " 24  origin_country        137609 non-null  object \n",
      " 25  spoken_languages      109280 non-null  object \n",
      " 26  production_companies  59342 non-null   object \n",
      " 27  production_countries  77511 non-null   object \n",
      " 28  episode_run_time      168639 non-null  int64  \n",
      "dtypes: bool(2), float64(2), int64(5), object(20)\n",
      "memory usage: 35.1+ MB\n"
     ]
    }
   ],
   "source": [
    "df.info()"
   ]
  },
  {
   "cell_type": "markdown",
   "id": "a8c8aad5-7ee6-4ad4-a894-986f320a74a4",
   "metadata": {},
   "source": [
    "Filtering \"first_air_date\" field between 2018-2023"
   ]
  },
  {
   "cell_type": "code",
   "execution_count": 190,
   "id": "0262be58-af91-4ae9-8a93-11c991ff2be1",
   "metadata": {},
   "outputs": [],
   "source": [
    "# Converting first_air_date for object to datetime\n",
    "df[\"first_air_date\"] = pd.to_datetime(df[\"first_air_date\"], errors=\"coerce\")\n",
    "\n",
    "# Filtering rows where the year is between 2018 and 2023\n",
    "df2 = df[(df[\"first_air_date\"].dt.year >= 2018) & (df[\"first_air_date\"].dt.year <= 2023)]\n",
    "\n",
    "# Converting the 'first_air_date' column back to string type\n",
    "df2[\"first_air_date\"] = df2[\"first_air_date\"].astype(\"string\")"
   ]
  },
  {
   "cell_type": "code",
   "execution_count": 191,
   "id": "31d8a178-5783-4add-9ed0-9476405ba3e2",
   "metadata": {},
   "outputs": [],
   "source": [
    "# Founding in the data duplicate rows (by id) with same/very similar info but with different target value (popularity) - decided to remove\n",
    "# Remove all rows where 'id' appears more than once\n",
    "df2 = df2[df2.groupby(\"id\")[\"id\"].transform(\"count\") == 1]"
   ]
  },
  {
   "cell_type": "markdown",
   "id": "02a802da-8cdc-4003-aedb-7a6708a080e2",
   "metadata": {},
   "source": [
    "Dropping irrelevant features"
   ]
  },
  {
   "cell_type": "code",
   "execution_count": 193,
   "id": "08c04a68-0590-4d14-afe3-be71c93e6494",
   "metadata": {},
   "outputs": [],
   "source": [
    "# More than 55% of nulls, duplicate features, id, URLs\n",
    "columns_to_drop = [\"backdrop_path\", \"homepage\", \"poster_path\", \"tagline\", \"created_by\", \"production_companies\", \"spoken_languages\", \"original_language\", \"id\", \"original_name\", \"in_production\", \"production_countries\"]\n",
    "df2 = df2.drop(columns=columns_to_drop)"
   ]
  },
  {
   "cell_type": "markdown",
   "id": "e987eb3c-439a-40c1-b845-3774d66399b4",
   "metadata": {},
   "source": [
    "Value counts of the categorial features"
   ]
  },
  {
   "cell_type": "code",
   "execution_count": 195,
   "id": "9ef6b0a3-6bfb-4421-9570-775d7e365de8",
   "metadata": {},
   "outputs": [
    {
     "name": "stdout",
     "output_type": "stream",
     "text": [
      "\n",
      "Grouped Networks (Top 10 + 'Other') Frequency and Percentage:\n",
      "               Count  Percentage\n",
      "networks                        \n",
      "Other          31933   62.160321\n",
      "netflix         1523    2.964650\n",
      "youtube         1383    2.692128\n",
      "iqiyi            774    1.506657\n",
      "tencent video    728    1.417114\n",
      "prime video      631    1.228296\n",
      "youku            489    0.951880\n",
      "tokyo mx         408    0.794207\n",
      "discovery+       381    0.741649\n",
      "channel 4        356    0.692985\n",
      "channel 5        354    0.689091\n",
      "\n",
      "Updated df2 with Grouped Networks:\n",
      "     networks\n",
      "6   [netflix]\n",
      "9     [Other]\n",
      "12    [Other]\n",
      "14    [Other]\n",
      "16    [Other]\n"
     ]
    }
   ],
   "source": [
    "# Handling netwroks feature\n",
    "\n",
    "# Splitting the 'networks' feature by commas, only process if it's a string\n",
    "df2['networks'] = df2['networks'].apply(lambda x: x.split(',') if isinstance(x, str) else x)\n",
    "\n",
    "# Removing leading/trailing spaces from each network name and clean the network names\n",
    "df2['networks'] = df2['networks'].apply(lambda x: [network.strip().lower().replace('-', '') for network in x] if isinstance(x, list) else x)\n",
    "\n",
    "# Flattening the list of networks, getting the frequency count (counting each network)\n",
    "network_counts = df2['networks'].explode().value_counts()\n",
    "\n",
    "# Geting the top 10 networks\n",
    "top_10_networks = network_counts.head(10).index\n",
    "\n",
    "# Replaceing networks not in the top 10 with 'Other' in the original column, but keep NaN as NaN\n",
    "def group_networks(networks):\n",
    "    if isinstance(networks, list):  # Only process if it's a list (after split)\n",
    "        return [network if network in top_10_networks else 'Other' for network in networks]\n",
    "    else:  # Keeping NaN values unchanged\n",
    "        return networks\n",
    "\n",
    "df2['networks'] = df2['networks'].apply(group_networks)\n",
    "\n",
    "# Getting the frequency count and percentage of the grouped networks\n",
    "grouped_network_counts = df2['networks'].explode().value_counts()\n",
    "grouped_network_percentage = (grouped_network_counts / len(df2)) * 100\n",
    "\n",
    "# Combining the counts and percentages into a DataFrame\n",
    "grouped_network_summary = pd.DataFrame({\n",
    "    'Count': grouped_network_counts,\n",
    "    'Percentage': grouped_network_percentage\n",
    "})\n",
    "\n",
    "# Sorting by count and displaying the result\n",
    "grouped_network_summary = grouped_network_summary.sort_values(by='Count', ascending=False)\n",
    "\n",
    "# Printing the results\n",
    "print(\"\\nGrouped Networks (Top 10 + 'Other') Frequency and Percentage:\")\n",
    "print(grouped_network_summary)\n",
    "\n",
    "# Displaying the updated df2 with the modified 'networks' column\n",
    "print(\"\\nUpdated df2 with Grouped Networks:\")\n",
    "print(df2[['networks']].head())"
   ]
  },
  {
   "cell_type": "code",
   "execution_count": 196,
   "id": "5ad29fa4-a8e7-48e5-a141-797fc6df167b",
   "metadata": {},
   "outputs": [
    {
     "name": "stdout",
     "output_type": "stream",
     "text": [
      "\n",
      "Grouped Languages (Top 10 + 'Other') Frequency and Percentage:\n",
      "           Count  Percentage\n",
      "languages                   \n",
      "en         10381   20.207506\n",
      "Other       9817   19.109632\n",
      "zh          3904    7.599471\n",
      "ja          3343    6.507436\n",
      "fr          2645    5.148719\n",
      "ko          2409    4.689325\n",
      "de          1733    3.373433\n",
      "es          1671    3.252745\n",
      "nl          1391    2.707701\n",
      "pt          1237    2.407926\n",
      "hi          1168    2.273612\n",
      "\n",
      "Updated df2 with Grouped Languages:\n",
      "          languages\n",
      "6   [en, ko, Other]\n",
      "9              [en]\n",
      "12             [en]\n",
      "14             [en]\n",
      "16             [en]\n"
     ]
    }
   ],
   "source": [
    "# Handling languages feature\n",
    "\n",
    "# Splitting the 'languages' feature by commas, only process if it's a string\n",
    "df2['languages'] = df2['languages'].apply(lambda x: x.split(',') if isinstance(x, str) else x)\n",
    "\n",
    "# Removing leading/trailing spaces from each network name and clean the network names\n",
    "df2['languages'] = df2['languages'].apply(lambda x: [language.strip().lower().replace('-', '') for language in x] if isinstance(x, list) else x)\n",
    "\n",
    "# Flattening the list of language, getting the frequency count (counting each language)\n",
    "language_counts = df2['languages'].explode().value_counts()\n",
    "\n",
    "# Geting the top 10 languages\n",
    "top_10_languages = language_counts.head(10).index\n",
    "\n",
    "# Replaceing networks not in the top 10 with 'Other' in the original column, but keep NaN as NaN\n",
    "def group_languages(languages):\n",
    "    if isinstance(languages, list):  # Only process if it's a list (after split)\n",
    "        return [language if language in top_10_languages else 'Other' for language in languages]\n",
    "    else:  # Keep NaN values unchanged\n",
    "        return languages\n",
    "\n",
    "df2['languages'] = df2['languages'].apply(group_languages)\n",
    "\n",
    "# Getting the frequency count and percentage of the grouped language\n",
    "grouped_language_counts = df2['languages'].explode().value_counts()\n",
    "grouped_language_percentage = (grouped_language_counts / len(df2)) * 100\n",
    "\n",
    "# Combining the counts and percentages into a DataFrame\n",
    "grouped_language_summary = pd.DataFrame({\n",
    "    'Count': grouped_language_counts,\n",
    "    'Percentage': grouped_language_percentage\n",
    "})\n",
    "\n",
    "# Sorting by count and displaying the result\n",
    "grouped_language_summary = grouped_language_summary.sort_values(by='Count', ascending=False)\n",
    "\n",
    "# Printing the results\n",
    "print(\"\\nGrouped Languages (Top 10 + 'Other') Frequency and Percentage:\")\n",
    "print(grouped_language_summary)\n",
    "\n",
    "# Displaying the updated df2 with the modified 'language' column\n",
    "print(\"\\nUpdated df2 with Grouped Languages:\")\n",
    "print(df2[['languages']].head())"
   ]
  },
  {
   "cell_type": "code",
   "execution_count": 197,
   "id": "c4c43af3-d56f-421a-811f-d3c0ebf2b79f",
   "metadata": {},
   "outputs": [
    {
     "name": "stdout",
     "output_type": "stream",
     "text": [
      "Total unique genres: 0\n",
      "set()\n"
     ]
    }
   ],
   "source": [
    "# Handling \"genres\" column \n",
    "\n",
    "# Check for unique genres\n",
    "unique_genres = set(genre for genres in df2['genres'] if isinstance(genres, list) for genre in genres)\n",
    "\n",
    "print(f\"Total unique genres: {len(unique_genres)}\")\n",
    "print(unique_genres)"
   ]
  },
  {
   "cell_type": "code",
   "execution_count": 198,
   "id": "f5d125e8-0ac2-4ba4-84ce-e4bcffa62531",
   "metadata": {},
   "outputs": [
    {
     "name": "stdout",
     "output_type": "stream",
     "text": [
      "<class 'pandas.core.frame.DataFrame'>\n",
      "Index: 51372 entries, 6 to 168636\n",
      "Data columns (total 17 columns):\n",
      " #   Column              Non-Null Count  Dtype  \n",
      "---  ------              --------------  -----  \n",
      " 0   name                51372 non-null  object \n",
      " 1   number_of_seasons   51372 non-null  int64  \n",
      " 2   number_of_episodes  51372 non-null  int64  \n",
      " 3   vote_count          51372 non-null  int64  \n",
      " 4   vote_average        51372 non-null  float64\n",
      " 5   overview            29404 non-null  object \n",
      " 6   adult               51372 non-null  bool   \n",
      " 7   first_air_date      51372 non-null  string \n",
      " 8   last_air_date       50938 non-null  object \n",
      " 9   popularity          51372 non-null  float64\n",
      " 10  type                51372 non-null  object \n",
      " 11  status              51372 non-null  object \n",
      " 12  genres              34485 non-null  object \n",
      " 13  languages           36954 non-null  object \n",
      " 14  networks            33041 non-null  object \n",
      " 15  origin_country      44490 non-null  object \n",
      " 16  episode_run_time    51372 non-null  int64  \n",
      "dtypes: bool(1), float64(2), int64(4), object(9), string(1)\n",
      "memory usage: 6.7+ MB\n"
     ]
    }
   ],
   "source": [
    "df2.info()"
   ]
  },
  {
   "cell_type": "code",
   "execution_count": 199,
   "id": "3818e0e2-2c0e-47b7-be2d-8402a3dc1368",
   "metadata": {},
   "outputs": [
    {
     "name": "stdout",
     "output_type": "stream",
     "text": [
      "\n",
      "Grouped Genres (Top 5 + 'Other') Frequency and Percentage:\n",
      "             Count  Percentage\n",
      "genres                        \n",
      "Other        14787   28.784163\n",
      "drama        11503   22.391575\n",
      "documentary   9325   18.151912\n",
      "comedy        6982   13.591061\n",
      "reality       5447   10.603052\n",
      "animation     3105    6.044149\n",
      "\n",
      "Updated df2 with Grouped Genres:\n",
      "                   genres\n",
      "6   [Other, Other, drama]\n",
      "9   [Other, Other, drama]\n",
      "12         [drama, Other]\n",
      "14  [Other, Other, drama]\n",
      "16         [drama, Other]\n"
     ]
    }
   ],
   "source": [
    "# Splitting the 'genres' feature by commas, only process if it's a string\n",
    "df2['genres'] = df2['genres'].apply(lambda x: x.split(', ') if isinstance(x, str) else x)\n",
    "\n",
    "# Removing leading/trailing spaces from each genres name and clean the genres names\n",
    "df2['genres'] = df2['genres'].apply(lambda x: [genre.strip().lower().replace('-', '') for genre in x] if isinstance(x, list) else x)\n",
    "\n",
    "# Flattening the list of language, getting the frequency count (counting each language)\n",
    "genre_counts = df2['genres'].explode().value_counts()\n",
    "\n",
    "# Getting the top 5 genres\n",
    "top_5_genres = genre_counts.head(5).index\n",
    "\n",
    "# Replacing genres not in the top 5 with 'Other' in the original column, but keep NaN as NaN\n",
    "def group_genres(genres):\n",
    "    if isinstance(genres, list):  # Only process if it's a list (after split)\n",
    "        return [genre if genre in top_5_genres else 'Other' for genre in genres]\n",
    "    else:  # Keep NaN values unchanged\n",
    "        return genres\n",
    "\n",
    "df2['genres'] = df2['genres'].apply(group_genres)\n",
    "\n",
    "# Getting the frequency count and percentage of the grouped genres\n",
    "grouped_genre_counts = df2['genres'].explode().value_counts()\n",
    "grouped_genre_percentage = (grouped_genre_counts / len(df2)) * 100\n",
    "\n",
    "# Combining the counts and percentages into a DataFrame\n",
    "grouped_genre_summary = pd.DataFrame({\n",
    "    'Count': grouped_genre_counts,\n",
    "    'Percentage': grouped_genre_percentage\n",
    "})\n",
    "\n",
    "# Sorting by count and displaying the result\n",
    "grouped_genre_summary = grouped_genre_summary.sort_values(by='Count', ascending=False)\n",
    "\n",
    "# Printing the results\n",
    "print(\"\\nGrouped Genres (Top 5 + 'Other') Frequency and Percentage:\")\n",
    "print(grouped_genre_summary)\n",
    "\n",
    "# Displaying the updated df2 with the modified 'genres' column\n",
    "print(\"\\nUpdated df2 with Grouped Genres:\")\n",
    "print(df2[['genres']].head())"
   ]
  },
  {
   "cell_type": "code",
   "execution_count": 200,
   "id": "c7a9b774-8f6a-4676-8997-1ef83ceef30c",
   "metadata": {},
   "outputs": [
    {
     "name": "stdout",
     "output_type": "stream",
     "text": [
      "Total unique origin countries: 0\n",
      "set()\n"
     ]
    }
   ],
   "source": [
    "# Handling \"origin_country\" column\n",
    "\n",
    "# Checking for unique origin countries\n",
    "unique_origin_countries = set(country for countries in df2['origin_country'] if isinstance(countries, list) for country in countries)\n",
    "\n",
    "# Printing the number of unique origin countries and the actual countries\n",
    "print(f\"Total unique origin countries: {len(unique_origin_countries)}\")\n",
    "print(unique_origin_countries)"
   ]
  },
  {
   "cell_type": "code",
   "execution_count": 201,
   "id": "4533fd05-409d-4f99-87d9-c321e9e07a29",
   "metadata": {},
   "outputs": [
    {
     "name": "stdout",
     "output_type": "stream",
     "text": [
      "\n",
      "Grouped Origin Countries (Top 10 + 'Other') Frequency and Percentage:\n",
      "                Count  Percentage\n",
      "origin_country                   \n",
      "Other           15081   29.356459\n",
      "us               7965   15.504555\n",
      "cn               5085    9.898388\n",
      "jp               3917    7.624776\n",
      "kr               3271    6.367282\n",
      "gb               2708    5.271354\n",
      "de               1648    3.207973\n",
      "in               1436    2.795297\n",
      "fr               1433    2.789457\n",
      "ca               1398    2.721327\n",
      "br               1086    2.113992\n",
      "\n",
      "Updated df2 with Grouped Origin Countries:\n",
      "   origin_country\n",
      "6            [kr]\n",
      "9            [us]\n",
      "12           [us]\n",
      "14           [us]\n",
      "16           [us]\n"
     ]
    }
   ],
   "source": [
    "# Splitting the 'origin_country' feature by commas, only process if it's a string\n",
    "df2['origin_country'] = df2['origin_country'].apply(lambda x: x.split(',') if isinstance(x, str) else x)\n",
    "\n",
    "# Removing leading/trailing spaces from each country name and cleaning the country names\n",
    "df2['origin_country'] = df2['origin_country'].apply(lambda x: [country.strip().lower().replace('-', '') for country in x] if isinstance(x, list) else x)\n",
    "\n",
    "# Flattening the list of countries and getting the frequency count (counting each country)\n",
    "country_counts = df2['origin_country'].explode().value_counts()\n",
    "\n",
    "# Getting the top 10 countries\n",
    "top_10_countries = country_counts.head(10).index\n",
    "\n",
    "# Replacing countries not in the top 10 with 'Other' in the original column, but keeping NaN as NaN\n",
    "def group_countries(countries):\n",
    "    if isinstance(countries, list):  # Only process if it's a list (after split)\n",
    "        return [country if country in top_10_countries else 'Other' for country in countries]\n",
    "    else:  # Keep NaN values unchanged\n",
    "        return countries\n",
    "\n",
    "df2['origin_country'] = df2['origin_country'].apply(group_countries)\n",
    "\n",
    "# Getting the frequency count and percentage of the grouped countries\n",
    "grouped_country_counts = df2['origin_country'].explode().value_counts()\n",
    "grouped_country_percentage = (grouped_country_counts / len(df2)) * 100\n",
    "\n",
    "# Combining the counts and percentages into a DataFrame\n",
    "grouped_country_summary = pd.DataFrame({\n",
    "    'Count': grouped_country_counts,\n",
    "    'Percentage': grouped_country_percentage\n",
    "})\n",
    "\n",
    "# Sorting by count and display the result\n",
    "grouped_country_summary = grouped_country_summary.sort_values(by='Count', ascending=False)\n",
    "\n",
    "# Printing the results\n",
    "print(\"\\nGrouped Origin Countries (Top 10 + 'Other') Frequency and Percentage:\")\n",
    "print(grouped_country_summary)\n",
    "\n",
    "# Displaying the updated df2 with the modified 'origin_country' column\n",
    "print(\"\\nUpdated df2 with Grouped Origin Countries:\")\n",
    "print(df2[['origin_country']].head())"
   ]
  },
  {
   "cell_type": "markdown",
   "id": "52d8f344-8801-4fc4-9c7f-ad77e17ce4c2",
   "metadata": {},
   "source": [
    "Removing text features from df2 after copy them to df_text"
   ]
  },
  {
   "cell_type": "code",
   "execution_count": 203,
   "id": "2a9b121f-49b6-444e-a526-d7c974dbf24a",
   "metadata": {},
   "outputs": [],
   "source": [
    "columns_to_remove = ['name','overview'] \n",
    "\n",
    "# Copy the specified columns to df_text\n",
    "df_text = df2[['name','overview']].copy()\n",
    "\n",
    "# Remove the specified columns from df2\n",
    "df2 = df2.drop(columns=columns_to_remove)"
   ]
  },
  {
   "cell_type": "markdown",
   "id": "47a04b8c-2d8e-4d6d-8cde-48e1cb74b29b",
   "metadata": {},
   "source": [
    "Data types convertion"
   ]
  },
  {
   "cell_type": "code",
   "execution_count": 205,
   "id": "0fd1ec55-589b-4850-885e-cdbed75712a0",
   "metadata": {},
   "outputs": [],
   "source": [
    "df2[df2.select_dtypes(include=['object']).columns] = df2.select_dtypes(include=['object']).astype('string')"
   ]
  },
  {
   "cell_type": "code",
   "execution_count": 206,
   "id": "00eb96f4-9cb6-4605-997f-67c2b9fe464e",
   "metadata": {},
   "outputs": [
    {
     "name": "stdout",
     "output_type": "stream",
     "text": [
      "<class 'pandas.core.frame.DataFrame'>\n",
      "Index: 51372 entries, 6 to 168636\n",
      "Data columns (total 15 columns):\n",
      " #   Column              Non-Null Count  Dtype  \n",
      "---  ------              --------------  -----  \n",
      " 0   number_of_seasons   51372 non-null  int64  \n",
      " 1   number_of_episodes  51372 non-null  int64  \n",
      " 2   vote_count          51372 non-null  int64  \n",
      " 3   vote_average        51372 non-null  float64\n",
      " 4   adult               51372 non-null  bool   \n",
      " 5   first_air_date      51372 non-null  string \n",
      " 6   last_air_date       50938 non-null  string \n",
      " 7   popularity          51372 non-null  float64\n",
      " 8   type                51372 non-null  string \n",
      " 9   status              51372 non-null  string \n",
      " 10  genres              34485 non-null  string \n",
      " 11  languages           36954 non-null  string \n",
      " 12  networks            33041 non-null  string \n",
      " 13  origin_country      44490 non-null  string \n",
      " 14  episode_run_time    51372 non-null  int64  \n",
      "dtypes: bool(1), float64(2), int64(4), string(8)\n",
      "memory usage: 5.9 MB\n"
     ]
    }
   ],
   "source": [
    "df2.info()"
   ]
  },
  {
   "cell_type": "code",
   "execution_count": 207,
   "id": "6d598a8c-bc7e-4a9f-8be9-eb85497f23bf",
   "metadata": {},
   "outputs": [
    {
     "name": "stdout",
     "output_type": "stream",
     "text": [
      "Unique values in 'status': 6\n",
      "Unique values in 'type': 7\n"
     ]
    }
   ],
   "source": [
    "# Checking unique values in 'status' column\n",
    "unique_status_count = df2['status'].nunique()\n",
    "print(f\"Unique values in 'status': {unique_status_count}\")\n",
    "\n",
    "# Checking unique values in 'type' column\n",
    "unique_type_count = df2['type'].nunique()\n",
    "print(f\"Unique values in 'type': {unique_type_count}\")"
   ]
  },
  {
   "cell_type": "markdown",
   "id": "1f308ee7-c2c4-40b2-bb61-3ee04b347c06",
   "metadata": {},
   "source": [
    "Pickle file"
   ]
  },
  {
   "cell_type": "code",
   "execution_count": 209,
   "id": "e1bffe41-cf8d-4a49-a3aa-9e0afe8fb8f5",
   "metadata": {},
   "outputs": [],
   "source": [
    "df2.to_pickle('df_after_data_prep.pkl')\n",
    "df_text.to_pickle('text.pkl')"
   ]
  }
 ],
 "metadata": {
  "kernelspec": {
   "display_name": "Python [conda env:base] *",
   "language": "python",
   "name": "conda-base-py"
  },
  "language_info": {
   "codemirror_mode": {
    "name": "ipython",
    "version": 3
   },
   "file_extension": ".py",
   "mimetype": "text/x-python",
   "name": "python",
   "nbconvert_exporter": "python",
   "pygments_lexer": "ipython3",
   "version": "3.12.7"
  }
 },
 "nbformat": 4,
 "nbformat_minor": 5
}
